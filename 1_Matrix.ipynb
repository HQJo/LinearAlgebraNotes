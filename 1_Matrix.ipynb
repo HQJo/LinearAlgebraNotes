{
 "cells": [
  {
   "cell_type": "code",
   "execution_count": 1,
   "metadata": {},
   "outputs": [],
   "source": [
    "using LinearAlgebra;\n",
    "using Random;\n",
    "Random.seed!(42);"
   ]
  },
  {
   "cell_type": "code",
   "execution_count": 2,
   "metadata": {},
   "outputs": [
    {
     "data": {
      "text/plain": [
       "prettyshow (generic function with 1 method)"
      ]
     },
     "execution_count": 2,
     "metadata": {},
     "output_type": "execute_result"
    }
   ],
   "source": [
    "function prettyshow(x::AbstractArray)\n",
    "    show(stdout, MIME\"text/plain\"(), x)\n",
    "    println()\n",
    "    nothing\n",
    "end"
   ]
  },
  {
   "cell_type": "markdown",
   "metadata": {},
   "source": [
    "## 矩阵"
   ]
  },
  {
   "cell_type": "markdown",
   "metadata": {},
   "source": [
    "什么是矩阵？最简单的理解，一个 $m\\times n$ 的矩阵是把 $m \\times n$ 个数排成一个 $m$ 行 $n$ 列的表。\n",
    "\n",
    "例如，下面是一个 $3 \\times 4$ 的矩阵 $A$。"
   ]
  },
  {
   "cell_type": "code",
   "execution_count": 3,
   "metadata": {},
   "outputs": [
    {
     "data": {
      "text/plain": [
       "3×4 Array{Int64,2}:\n",
       " 4  3  7  8\n",
       " 7  6  3  6\n",
       " 6  2  1  5"
      ]
     },
     "execution_count": 3,
     "metadata": {},
     "output_type": "execute_result"
    }
   ],
   "source": [
    "m, n = 3, 4;\n",
    "A = mod.(rand(Int, m, n), 10)"
   ]
  },
  {
   "cell_type": "markdown",
   "metadata": {},
   "source": [
    "第二个角度，我们可以从行/列向量的角度去理解。一个 $m\\times n$ 的矩阵可以看成 $m$ 个行向量或 $n$ 个列向量的堆叠：\n",
    "$$\n",
    "\\begin{equation}\n",
    "\\begin{aligned}\n",
    "A &= \\begin{bmatrix} \\mathbf{b}_1^\\mathrm{T} \\\\ \\mathbf{b}_2^\\mathrm{T} \\\\ \\vdots \\\\ \\mathbf{b}_m^\\mathrm{T} \\end{bmatrix} \\\\\n",
    "&= [\\mathbf{a}_1, \\mathbf{a}_2, \\ldots, \\mathbf{a}_n]\n",
    "\\end{aligned}\n",
    "\\end{equation}\n",
    "$$\n",
    "\n",
    "$\\mathbf{a}_1, \\mathbf{a}_2, \\ldots, \\mathbf{a}_n$ 是 $n$ 个 $\\mathbb{R}^{m}$ 的列向量，$\\mathbf{b}_1, \\mathbf{b}_2, \\ldots, \\mathbf{b}_m$ 是 $m$ 个 $\\mathbb{R}^{n}$ 的行向量。\n",
    "\n",
    "在上面的例子中，每个行向量和列向量分别是："
   ]
  },
  {
   "cell_type": "code",
   "execution_count": 4,
   "metadata": {},
   "outputs": [
    {
     "name": "stdout",
     "output_type": "stream",
     "text": [
      "1-th row vector: [4, 3, 7, 8]\n",
      "2-th row vector: [7, 6, 3, 6]\n",
      "3-th row vector: [6, 2, 1, 5]\n",
      "\n",
      "1-th column vector: [4, 7, 6]\n",
      "2-th column vector: [3, 6, 2]\n",
      "3-th column vector: [7, 3, 1]\n",
      "4-th column vector: [8, 6, 5]\n"
     ]
    }
   ],
   "source": [
    "for (i, b) in enumerate(eachrow(A))\n",
    "    println(\"$(i)-th row vector: \", b)\n",
    "end\n",
    "println()\n",
    "for (i, a) in enumerate(eachcol(A))\n",
    "    println(\"$(i)-th column vector: \", a)\n",
    "end"
   ]
  },
  {
   "cell_type": "markdown",
   "metadata": {},
   "source": [
    "第三个角度，我们可以从线性变换的角度去理解。$A$ 矩阵代表了一种从 $\\mathbb{R}^{n}$ 空间到 $\\mathbb{R}^{m}$ 空间的变换，具体的变换通过乘矩阵 $A$ 实现。任何一个 $\\mathbb{R}^{n}$ 中的向量与 $A$ 相乘，就变换成了一个 $\\mathbb{R}^{m}$ 中的向量。"
   ]
  },
  {
   "cell_type": "code",
   "execution_count": 5,
   "metadata": {},
   "outputs": [
    {
     "name": "stdout",
     "output_type": "stream",
     "text": [
      "4\t[6, 8, 0, 8]\n",
      "3\t[112, 138, 92]\n"
     ]
    }
   ],
   "source": [
    "x =  mod.(rand(Int, n), 10)\n",
    "println(length(x), \"\\t\", x)\n",
    "y = A * x\n",
    "println(length(y), \"\\t\", y)"
   ]
  },
  {
   "cell_type": "code",
   "execution_count": null,
   "metadata": {},
   "outputs": [],
   "source": []
  },
  {
   "cell_type": "markdown",
   "metadata": {},
   "source": [
    "## 矩阵向量乘"
   ]
  },
  {
   "cell_type": "markdown",
   "metadata": {},
   "source": [
    "矩阵向量乘也可以从对应的三种角度去看。\n",
    "\n",
    "第一种，从单纯的数表角度，矩阵向量乘就是一系列乘法和加法。\n",
    "\n",
    "$$\n",
    "A\\mathbf{x} = \\mathbf{y} \\qquad \\mathbf{y}(i) = \\sum_{j=1}^{n} A(i, j) \\mathbf{x}(j) \\quad \\forall\\ i = 1,2,\\ldots, m\n",
    "$$"
   ]
  },
  {
   "cell_type": "code",
   "execution_count": 6,
   "metadata": {},
   "outputs": [
    {
     "name": "stdout",
     "output_type": "stream",
     "text": [
      "3×4 Array{Int64,2}:\n",
      " 4  3  7  8\n",
      " 7  6  3  6\n",
      " 6  2  1  5\n",
      "4-element Array{Int64,1}:\n",
      " 6\n",
      " 8\n",
      " 0\n",
      " 8\n",
      "3-element Array{Int64,1}:\n",
      " 112\n",
      " 138\n",
      "  92\n",
      "\n",
      "112 = 4×6 + 3×8 + 7×0 + 8×8\n",
      "138 = 7×6 + 6×8 + 3×0 + 6×8\n",
      "92 = 6×6 + 2×8 + 1×0 + 5×8\n"
     ]
    }
   ],
   "source": [
    "prettyshow(A)\n",
    "prettyshow(x)\n",
    "prettyshow(y)\n",
    "println()\n",
    "\n",
    "# 验证 y 的每一个元素\n",
    "for i in 1:m\n",
    "    print(\"$(y[i]) = \")\n",
    "    for j in 1:n\n",
    "        print(\"$(A[i, j])×$(x[j])\", j == n ? \"\" : \" + \")\n",
    "    end\n",
    "    println()\n",
    "end"
   ]
  },
  {
   "cell_type": "markdown",
   "metadata": {},
   "source": [
    "第二种角度，从列向量的线性组合来看，矩阵乘向量就是用向量的元素对列向量作线性组合。\n",
    "\n",
    "假设 $A\\cdot \\mathbf{x}$， $A$ 是 $m\\times n$ 的矩阵 ，有 $n$ 个列向量；$\\mathbf{x}$ 是 $\\mathbb{R}^{n}$ 的向量，刚好有 $n$ 个值。用这些值乘以对应列向量再相加，即得到运算的结果 $A\\cdot \\mathbf{x} = \\mathbf{y}$。\n",
    "\n",
    "$$\n",
    "    A\\cdot \\mathbf{x} = [\\mathbf{a}_1, \\mathbf{a}_2, \\ldots, \\mathbf{a}_n] \\cdot [x_1, x_2, \\ldots, x_n]^{\\mathrm{T}} = \\mathbf{x}(1) \\cdot a_1 + \\mathbf{x}(2) \\cdot a_2 + \\cdots \\mathbf{x}(n) \\cdot a_n\n",
    "$$"
   ]
  },
  {
   "cell_type": "code",
   "execution_count": 7,
   "metadata": {},
   "outputs": [
    {
     "name": "stdout",
     "output_type": "stream",
     "text": [
      "3-element Array{Int64,1}:\n",
      " 112\n",
      " 138\n",
      "  92\n",
      "\n",
      "3-element Array{Int64,1}:\n",
      " 112\n",
      " 138\n",
      "  92\n",
      "[112, 138, 92] = 6×[4, 7, 6] + 8×[3, 6, 2] + 0×[7, 3, 1] + 8×[8, 6, 5]"
     ]
    }
   ],
   "source": [
    "# 矩阵向量乘结果：\n",
    "prettyshow(y)\n",
    "println()\n",
    "\n",
    "# 线性组合结果：\n",
    "y2 = zero(y)\n",
    "for i in 1:n\n",
    "    y2 += x[i] * A[:, i]\n",
    "end\n",
    "prettyshow(y2)\n",
    "\n",
    "print(y2, \" = \")\n",
    "for i in 1:n\n",
    "    print(\"$(x[i])×$(A[:, i])\", i == n ? \"\" : \" + \")\n",
    "end"
   ]
  },
  {
   "cell_type": "markdown",
   "metadata": {},
   "source": [
    "第三种角度，则是线性变换，矩阵向量乘将 $\\mathbb{R}^{n}$ 中的向量变换成了 $\\mathbb{R}^{m}$ 中的向量。"
   ]
  },
  {
   "cell_type": "markdown",
   "metadata": {},
   "source": [
    "另外，两个矩阵相乘，也可以从行/列向量角度去看。设 $A \\in \\mathbb{R}^{m\\times n}$, $B \\in \\mathbb{R}^{n \\times p}$：\n",
    "\n",
    "$AB$ 相乘的结果，其列向量即 $A$ 左乘 $B$ 矩阵的每一个列向量：\n",
    "$$\n",
    "    AB = A [\\mathbf{b}_1, \\mathbf{b}_2, \\ldots, \\mathbf{b}_p] = [A \\mathbf{b}_1, A \\mathbf{b}_2, \\ldots, A \\mathbf{b}_p]\n",
    "$$\n",
    "\n",
    "$AB$ 相乘的结果，其行向量即 $B$ 右乘 $A$ 矩阵的每一个行向量：\n",
    "$$\n",
    "    AB = \\begin{bmatrix} \\mathbf{a}_1^{\\mathrm{T}} \\\\ \\mathbf{a}_2^{\\mathrm{T}} \\\\ \\vdots \\\\ \\mathbf{a}_m^{\\mathrm{T}} \\end{bmatrix} B = \\begin{bmatrix} \\mathbf{a}_1^{\\mathrm{T}} B \\\\ \\mathbf{a}_2^{\\mathrm{T}} B \\\\ \\vdots \\\\ \\mathbf{a}_m^{\\mathrm{T}} B \\end{bmatrix}\n",
    "$$"
   ]
  }
 ],
 "metadata": {
  "kernelspec": {
   "display_name": "Julia 1.5.2",
   "language": "julia",
   "name": "julia-1.5"
  },
  "language_info": {
   "file_extension": ".jl",
   "mimetype": "application/julia",
   "name": "julia",
   "version": "1.5.2"
  }
 },
 "nbformat": 4,
 "nbformat_minor": 4
}
