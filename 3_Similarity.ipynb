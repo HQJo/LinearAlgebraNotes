{
 "cells": [
  {
   "cell_type": "code",
   "execution_count": 1,
   "metadata": {},
   "outputs": [],
   "source": [
    "using LinearAlgebra;\n",
    "using Random;\n",
    "Random.seed!(42);"
   ]
  },
  {
   "cell_type": "code",
   "execution_count": 2,
   "metadata": {},
   "outputs": [
    {
     "data": {
      "text/plain": [
       "@prettyshow (macro with 1 method)"
      ]
     },
     "execution_count": 2,
     "metadata": {},
     "output_type": "execute_result"
    }
   ],
   "source": [
    "macro prettyshow(var)\n",
    "    quote\n",
    "        $(print(string(var), \" is \"))\n",
    "        $(show(stdout, MIME\"text/plain\"(), eval(var)))\n",
    "        $(println())\n",
    "    end\n",
    "end"
   ]
  },
  {
   "cell_type": "markdown",
   "metadata": {},
   "source": [
    "## 线性变换与基"
   ]
  },
  {
   "cell_type": "markdown",
   "metadata": {},
   "source": [
    "矩阵表示一个线性变换，更具体的说，是在一个线性变换**一组特定基下**的表示。也就是说，同一个线性变换，换了一组基，矩阵的样子就变了。但是，它内在的线性变换还是同一个，所以这些不同基下的表示矩阵存在关联，这种关联被称作**相似**。\n",
    "\n",
    "教科书上的定义说，两个 $n$ 阶方阵 $A$、$B$ 相似是指，存在 $n$ 阶可逆矩阵 $S$，满足：\n",
    "$$\n",
    "    B = S^{-1} A S\n",
    "$$\n",
    "\n",
    "我们可以把 $S$ 看作把当前坐标从 $B$ 使用的基变换成 $A$ 使用的基的一个过渡矩阵，那么 $S^{-1}$ 就是把当前坐标从 $A$ 使用的基变换回 $B$ 使用的基的过渡矩阵。记 $A$、$B$ 对应的线性变换为 $T$，那么 上式可以解释为：$B$ 矩阵的作用是，**先从 $B$ 的基换到 $A$ 的基，在该基下作完变换 $T$ 后，在换回 $B$ 的基**。"
   ]
  },
  {
   "cell_type": "markdown",
   "metadata": {},
   "source": [
    "举个例子来辅助理解，把线性变换比作对句子的一个“润色”操作，$A$、$B$ 使用的基比作中文和英文，$A$、$B$ 矩阵分别在中文和英文下完成同一个操作（润色）。那么，对英文句子润色的操作（$B$ 矩阵）可以分解成如下步骤：\n",
    "\n",
    "1. 翻译成中文（从 $B$ 的基换到 $A$ 的基）；\n",
    "2. 在中文下完成润色操作（乘以 $A$）；\n",
    "3. 翻译回英文（从 $A$ 的基换回 $B$ 的基）；"
   ]
  },
  {
   "cell_type": "markdown",
   "metadata": {},
   "source": [
    "下面我们用具体例子感受下上面所描述的过程："
   ]
  },
  {
   "cell_type": "code",
   "execution_count": 3,
   "metadata": {},
   "outputs": [
    {
     "name": "stdout",
     "output_type": "stream",
     "text": [
      "B is 4×4 Array{Int64,2}:\n",
      " 2  8  1  4\n",
      " 8  3  9  0\n",
      " 6  5  4  4\n",
      " 5  3  9  2\n",
      "x is 4-element Array{Int64,1}:\n",
      " 7\n",
      " 5\n",
      " 3\n",
      " 0\n"
     ]
    }
   ],
   "source": [
    "n = 4\n",
    "B = mod.(rand(Int, n, n), 10)\n",
    "x = mod.(rand(Int, n), 10)\n",
    "@prettyshow B\n",
    "@prettyshow x"
   ]
  },
  {
   "cell_type": "markdown",
   "metadata": {},
   "source": [
    "假定 $B$ 使用的基是标准正交基，且通过如下 $S$ 矩阵把 $B$ 的基换到 $A$ 的基，那么 $A$ 矩阵可以写作：$A = S B S^{-1}$。"
   ]
  },
  {
   "cell_type": "code",
   "execution_count": 4,
   "metadata": {},
   "outputs": [
    {
     "name": "stdout",
     "output_type": "stream",
     "text": [
      "S is 4×4 Array{Int64,2}:\n",
      " 1  1  1  1\n",
      " 0  1  1  1\n",
      " 0  0  1  1\n",
      " 0  0  0  1\n",
      "S_inv is 4×4 Array{Int64,2}:\n",
      " 1  -1   0   0\n",
      " 0   1  -1   0\n",
      " 0   0   1  -1\n",
      " 0   0   0   1\n",
      "B is 4×4 Array{Int64,2}:\n",
      " 2  8  1  4\n",
      " 8  3  9  0\n",
      " 6  5  4  4\n",
      " 5  3  9  2\n"
     ]
    }
   ],
   "source": [
    "S = ones(Int, n, n)\n",
    "triu!(S)\n",
    "@prettyshow S\n",
    "S_inv = inv(S)\n",
    "S_inv = convert.(Int, S_inv)\n",
    "@prettyshow S_inv\n",
    "\n",
    "A = S * B * S_inv\n",
    "A = convert.(Int, A)\n",
    "@prettyshow B"
   ]
  },
  {
   "cell_type": "markdown",
   "metadata": {},
   "source": [
    "我们来检查一下，$B$ 矩阵是否能分解成我们所说的那样？"
   ]
  },
  {
   "cell_type": "code",
   "execution_count": 5,
   "metadata": {},
   "outputs": [
    {
     "name": "stdout",
     "output_type": "stream",
     "text": [
      "y is 4-element Array{Int64,1}:\n",
      " 57\n",
      " 98\n",
      " 79\n",
      " 77\n",
      "y2 is 4-element Array{Int64,1}:\n",
      " 57\n",
      " 98\n",
      " 79\n",
      " 77\n"
     ]
    }
   ],
   "source": [
    "# 直接使用 B 作变换\n",
    "y = B * x\n",
    "\n",
    "# 1. 变换成 $A$ 的基\n",
    "tmp = S * x\n",
    "# 2. 在 $A$ 的基下完成线性变换\n",
    "tmp = A * tmp\n",
    "# 3. 变换回 $B$ 的基\n",
    "y2 = S_inv * tmp\n",
    "\n",
    "@prettyshow y\n",
    "@prettyshow y2"
   ]
  },
  {
   "cell_type": "markdown",
   "metadata": {},
   "source": [
    "可以看到，两种方法计算出来的结果是一致的，这验证了我们对公式的解释。\n",
    "\n",
    "通过上面的过程，我们对相似的理解已经不仅限于记住公式，更理解了其中每一个矩阵的含义与作用。"
   ]
  },
  {
   "cell_type": "markdown",
   "metadata": {},
   "source": [
    "## 对角化"
   ]
  },
  {
   "cell_type": "markdown",
   "metadata": {},
   "source": [
    "假设 $A$ 相似于一个对角阵 $\\Lambda$，写成公式就是 $\\Lambda = S^{-1} A S$，这个过程被称作对角化。\n",
    "\n",
    "为什么需要对角化？首先，它在矩阵的幂运算中很有用，因为：\n",
    "$$\n",
    "    A^{n} = (S \\Lambda S^{-1})^{n} = (S \\Lambda S^{-1}) \\cdot (S \\Lambda S^{-1})\\cdot \\cdots \\cdot (S \\Lambda S^{-1}) = S \\Lambda^{n} S^{-1}\n",
    "$$\n",
    "\n",
    "通过以上过程，我们把 $A$ 的幂运算转化为了对角阵的幂运算，大大减小了计算量。\n",
    "\n",
    "其次，从线性变换的角度看，对角化的过程实质上是**为 $A$ 表示的线性变换 $T$ 找到了一组基 $\\mathcal{B}$，$T$ 在这组基下的矩阵表达很简单**，就是一个对角阵。也就是说，对于 $\\mathcal{B}$ 中的每一个基，$A$ 矩阵的作用实质上只是乘了一个缩放系数。不仅计算上方便，更有助于我们理解 $T$ 的本质。"
   ]
  },
  {
   "cell_type": "markdown",
   "metadata": {},
   "source": [
    "记 $\\Lambda$ 对角线上第 $i$ 个元素为 $\\lambda_i$，$\\mathcal{B}$ 中的基为 $v_1, v_2, \\dotsc, v_n$，我们有：\n",
    "$$\n",
    "    A v_i = \\lambda_i v_i \\quad i=1,2,\\dotsc,n\n",
    "$$\n",
    "上式即矩阵 $A$ 特征值和特征向量的定义，$\\lambda_i$ 为特征值，$v_i$ 为特征向量。所以，对角化结果中的 $\\Lambda$ 即矩阵 $A$ 的特征值，$S$ 中的列即矩阵 $A$ 的特征向量。"
   ]
  },
  {
   "cell_type": "code",
   "execution_count": 6,
   "metadata": {},
   "outputs": [
    {
     "name": "stdout",
     "output_type": "stream",
     "text": [
      "A is 4×4 Array{Int64,2}:\n",
      " 21  -2   4  -13\n",
      " 19  -8  11  -16\n",
      " 11  -3   5   -7\n",
      "  5  -2   6   -7\n",
      "A2 is 4×4 Array{Int64,2}:\n",
      " 21  -2   4  -13\n",
      " 19  -8  11  -16\n",
      " 11  -3   5   -7\n",
      "  5  -2   6   -7\n"
     ]
    }
   ],
   "source": [
    "λ, S = eigen(A);\n",
    "\n",
    "A2 = S * Diagonal(λ) * inv(S)\n",
    "A2 = round.(Int, A2)\n",
    "@prettyshow A\n",
    "@prettyshow A2"
   ]
  },
  {
   "cell_type": "markdown",
   "metadata": {},
   "source": [
    "容易验证，相似关系是一个等价关系（满足自反、对称、可传递）。所以如果 $A$、$B$ 相似，且 $A$ 相似于对角阵 $\\Lambda$，那么 $B$ 也相似于 $\\Lambda$。\n",
    "\n",
    "所以，$A$ 与 $B$ 矩阵都可以找到一组基，使得在这两组基下的矩阵表示很简单。**基的选取不影响线性变换的本质，线性变换的本质在于中间的 $\\Lambda$**（可对角化的前提下）。\n",
    "\n",
    "通过对角化和相似关系，我们得以窥探不同矩阵外衣下，同一个线性变换的本质。研究对角化后的矩阵 $\\Lambda$ 的性质，相当于研究了其在任意基下表示矩阵的性质，这大大加深了我们对矩阵的理解。"
   ]
  }
 ],
 "metadata": {
  "kernelspec": {
   "display_name": "Julia 1.5.2",
   "language": "julia",
   "name": "julia-1.5"
  },
  "language_info": {
   "file_extension": ".jl",
   "mimetype": "application/julia",
   "name": "julia",
   "version": "1.5.2"
  }
 },
 "nbformat": 4,
 "nbformat_minor": 4
}
